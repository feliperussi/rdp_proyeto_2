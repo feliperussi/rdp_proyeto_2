{
 "cells": [
  {
   "cell_type": "code",
   "execution_count": 78,
   "metadata": {},
   "outputs": [],
   "source": [
    "import numpy as np\n",
    "import pandas as pd\n",
    "import matplotlib.pyplot as plt\n",
    "import seaborn as sns\n",
    "import time\n",
    "from sklearn.model_selection import train_test_split, cross_val_score, GridSearchCV\n",
    "from sklearn.metrics import accuracy_score, confusion_matrix, classification_report\n",
    "from ucimlrepo import fetch_ucirepo "
   ]
  },
  {
   "cell_type": "markdown",
   "metadata": {},
   "source": [
    "## Clasificador Basado en Estimador de Densidad por Kernels\n",
    "\n",
    "### Descripción General\n",
    "El clasificador utiliza un enfoque basado en el estimador de densidad kernel para determinar la probabilidad de que un conjunto de datos pertenezca a una clase en particular. Este método es útil en situaciones donde las distribuciones de clase son continuas y pueden ser aproximadas por densidades suaves.\n",
    "\n",
    "### Implementación\n",
    "La implementación consta de dos componentes principales:\n",
    "- **Función `kernel_density_estimator`**: Calcula la estimación de densidad kernel para un conjunto de puntos utilizando un conjunto de datos de referencia y un parámetro de ancho de banda.\n",
    "- **Clase `KernelDensityClassifier`**: Inicializa el clasificador con un ancho de banda especificado, aprende las densidades de cada clase en los datos de entrenamiento, y luego utiliza estas densidades para predecir las clases de nuevas observaciones.\n",
    "\n",
    "### Uso del Clasificador\n",
    "Para usar el clasificador, se debe primero entrenarlo con un conjunto de datos etiquetados y luego utilizarlo para hacer predicciones sobre nuevos datos. El entrenamiento se realiza mediante el método `fit`, y las predicciones se generan con el método `predict`.\n",
    "\n",
    "### Consideraciones\n",
    "- La elección del `bandwidth` es crucial para el rendimiento del clasificador.\n",
    "- Es adecuado para datos con distribuciones suaves y continuas.\n",
    "- Es importante asegurar que los datos estén correctamente formateados y preprocesados.\n"
   ]
  },
  {
   "cell_type": "code",
   "execution_count": 80,
   "metadata": {},
   "outputs": [],
   "source": [
    "# Estimador de densidad kernel\n",
    "def kernel_density_estimator(x, data, bandwidth):\n",
    "    \"\"\"\n",
    "    Calcula la estimación de densidad kernel para un conjunto de puntos.\n",
    "\n",
    "    Args:\n",
    "    x (array-like): Punto o conjunto de puntos para los cuales se calcula la estimación de densidad.\n",
    "    data (array-like): Conjunto de datos de referencia utilizado para la estimación de densidad.\n",
    "    bandwidth (float): Ancho de banda del kernel, controla la suavidad de la estimación de densidad.\n",
    "\n",
    "    Returns:\n",
    "    array-like: Estimación de densidad para cada punto en `x`.\n",
    "    \"\"\"\n",
    "    n = len(data)  # Número de puntos en el conjunto de datos de referencia\n",
    "    # Calcula la densidad para cada punto en 'x' utilizando un kernel Gaussiano\n",
    "    densities = np.sum(np.exp(-0.5 * ((x - data) / bandwidth)**2) / (np.sqrt(2 * np.pi) * bandwidth), axis=1)\n",
    "    return densities / n  # Normaliza la densidad por el número de puntos en 'data'\n",
    "\n",
    "# Clasificador basado en estimador de densidad kernel ajustado\n",
    "class KernelDensityClassifier:\n",
    "    def __init__(self, bandwidth=1.0):\n",
    "        \"\"\"\n",
    "        Inicializa el clasificador basado en estimador de densidad kernel.\n",
    "\n",
    "        Args:\n",
    "        bandwidth (float): Ancho de banda para el estimador de densidad kernel.\n",
    "        \"\"\"\n",
    "        self.bandwidth = bandwidth  # Ancho de banda para el kernel\n",
    "        self.classes_ = None  # Almacenará las clases únicas en los datos\n",
    "        self.densities_ = None  # Almacenará las densidades por clase\n",
    "\n",
    "    def fit(self, X, y):\n",
    "        \"\"\"\n",
    "        Entrena el clasificador utilizando los datos proporcionados.\n",
    "\n",
    "        Args:\n",
    "        X (array-like): Datos de entrenamiento, donde cada fila es una observación.\n",
    "        y (array-like): Etiquetas de clase para cada observación en X.\n",
    "        \"\"\"\n",
    "        self.classes_ = np.unique(y)  # Encuentra las clases únicas\n",
    "        self.densities_ = [None] * len(self.classes_)  # Inicializa la lista de densidades\n",
    "        for i, cls in enumerate(self.classes_):  # Para cada clase...\n",
    "            self.densities_[i] = X[y == cls]  # ...almacena los datos correspondientes a esa clase\n",
    "\n",
    "    def predict(self, X):\n",
    "        \"\"\"\n",
    "        Predice las etiquetas de clase para las observaciones dadas.\n",
    "\n",
    "        Args:\n",
    "        X (array-like): Datos de prueba, donde cada fila es una observación.\n",
    "\n",
    "        Returns:\n",
    "        np.ndarray: Etiquetas de clase predichas para cada observación en X.\n",
    "        \"\"\"\n",
    "        probs = np.zeros((X.shape[0], len(self.classes_)))  # Inicializa matriz de probabilidades\n",
    "        for i, class_data in enumerate(self.densities_):  # Para cada conjunto de datos de clase...\n",
    "            for j, x in enumerate(X):  # ...y para cada punto en 'X'...\n",
    "                # ...calcula la suma de las densidades kernel para ese punto y esa clase\n",
    "                probs[j, i] = kernel_density_estimator(x, class_data, self.bandwidth).sum()\n",
    "        class_indices = np.argmax(probs, axis=1)  # Encuentra la clase con la mayor probabilidad\n",
    "        return self.classes_[class_indices]  # Devuelve las clases predichas\n",
    "    \n",
    "    # Método para obtener los parámetros del clasificador\n",
    "    def get_params(self, deep=True):\n",
    "        return {\"bandwidth\": self.bandwidth}\n",
    "\n",
    "    # Método para establecer los parámetros del clasificador\n",
    "    def set_params(self, **parameters):\n",
    "        for parameter, value in parameters.items():\n",
    "            setattr(self, parameter, value)\n",
    "        return self"
   ]
  },
  {
   "cell_type": "markdown",
   "metadata": {},
   "source": [
    "### Carga y Preparación de Datos del Conjunto de Datos de Cáncer de Mama de Wisconsin\n",
    "\n",
    "1. **Carga del conjunto de datos**:\n",
    "   - Se obtienen los datos del cáncer de mama de Wisconsin desde el repositorio UCI.\n",
    "\n",
    "2. **Extracción de características y etiquetas**:\n",
    "   - `X`: Contiene las características (features) del conjunto de datos.\n",
    "   - `y`: Contiene las etiquetas objetivo (targets).\n",
    "\n",
    "3. **Procesamiento de etiquetas**:\n",
    "   - Las etiquetas se transforman de modo que el valor `4` se convierte en `1` (indicativo de malignidad), y todos los demás valores se convierten en `0` (benignidad).\n",
    "\n",
    "4. **Creación de un DataFrame de pandas**:\n",
    "   - Se crea un DataFrame con las características y las etiquetas procesadas, facilitando la manipulación y análisis de los datos."
   ]
  },
  {
   "cell_type": "code",
   "execution_count": 49,
   "metadata": {},
   "outputs": [],
   "source": [
    "breast_cancer_wisconsin_original = fetch_ucirepo(id=15) \n",
    "X = breast_cancer_wisconsin_original.data.features \n",
    "y = breast_cancer_wisconsin_original.data.targets\n",
    "y = np.where(y == 4, 1, 0)\n",
    "data = pd.DataFrame(X, columns=breast_cancer_wisconsin_original.data.feature_names)\n",
    "data['label'] = y"
   ]
  },
  {
   "cell_type": "markdown",
   "metadata": {},
   "source": [
    "### Limpieza y Preparación de Datos\n",
    "\n",
    "1. **Identificación de filas con valores NaN**:\n",
    "   - Se localizan las filas en el DataFrame que contienen valores NaN (Not a Number) en cualquiera de sus columnas.\n",
    "\n",
    "2. **Eliminación de filas con valores NaN**:\n",
    "   - Se eliminan las filas que contienen valores NaN para asegurar la integridad de los datos.\n",
    "\n",
    "3. **Separación de características y etiquetas**:\n",
    "   - `X`: Se extraen las características, excluyendo la columna de etiquetas.\n",
    "   - `y`: Se extraen las etiquetas correspondientes.\n"
   ]
  },
  {
   "cell_type": "code",
   "execution_count": 50,
   "metadata": {},
   "outputs": [],
   "source": [
    "nan_rows = np.isnan(data).any(axis=1)\n",
    "data = data[~nan_rows]\n",
    "X = data.drop(columns=['label']).values\n",
    "y = data['label'].values"
   ]
  },
  {
   "cell_type": "markdown",
   "metadata": {},
   "source": [
    "### Entrenamiento del Clasificador y selección de Parámetros con Validación Cruzada\n",
    "\n",
    "### Objetivo\n",
    "El fragmento de código describe un proceso para seleccionar de manera óptima los parámetros de un clasificador basado en el estimador de densidad kernel, utilizando la técnica de validación cruzada.\n",
    "\n",
    "### Procedimiento\n",
    "1. **Definición de Parámetros a Probar**: Se especifica un conjunto de valores posibles para el parámetro 'bandwidth' del clasificador. Estos valores varían en un rango predefinido y son los candidatos para ser evaluados.\n",
    "\n",
    "2. **Uso de GridSearchCV para la Optimización de Parámetros**: \n",
    "   - Se emplea GridSearchCV, una herramienta que automatiza el proceso de ajuste de parámetros, para evaluar todas las combinaciones posibles de los valores de 'bandwidth'.\n",
    "   - Se utiliza una validación cruzada de 5 pliegues (cv=5), lo que significa que los datos se dividen en 5 conjuntos, y el modelo se entrena y valida 5 veces, cada vez con un conjunto diferente como prueba y el resto como entrenamiento.\n",
    "\n",
    "3. **Evaluación Basada en la Métrica F1**: La selección se realiza buscando maximizar la puntuación F1, que es una medida que combina la precisión y el recall.\n",
    "\n",
    "4. **Medición del Tiempo de Ejecución**: Se registra el tiempo que toma realizar todo el proceso de ajuste de parámetros.\n",
    "\n",
    "5. **Resultados**:\n",
    "   - Al finalizar, se obtiene el mejor valor de 'bandwidth' (aquel que maximiza la puntuación F1 en la validación cruzada).\n",
    "   - Se muestra la mejor puntuación F1 alcanzada y el tiempo total de ejecución.\n",
    "\n",
    "### Conclusión\n",
    "Este enfoque permite identificar el mejor parámetro 'bandwidth' para el clasificador, garantizando una selección objetiva y basada en el rendimiento del modelo en diferentes subconjuntos de datos. Además, proporciona información valiosa sobre la complejidad computacional del proceso de selección de parámetros.\n",
    "\n"
   ]
  },
  {
   "cell_type": "code",
   "execution_count": 88,
   "metadata": {},
   "outputs": [
    {
     "name": "stdout",
     "output_type": "stream",
     "text": [
      "Mejores parámetros: {'bandwidth': 4.5}\n",
      "Mejor puntuación: 0.9113520674998494\n",
      "Tiempo total de preparación y ajuste de parámetros: 0.6361889839172363\n"
     ]
    }
   ],
   "source": [
    "# Dividir los datos en conjuntos de entrenamiento y prueba\n",
    "X_train, X_test, y_train, y_test = train_test_split(X, y, test_size=0.2)\n",
    "\n",
    "# Definición de los parámetros a probar\n",
    "param_grid = {'bandwidth': [0.5, 1.0, 1.5, 2.0, 2.5, 3.0, 4.0, 4.5, 5.0]}\n",
    "\n",
    "# Inicialización de GridSearchCV con validación cruzada de 5 particiones (20% de los datos para prueba)\n",
    "grid_search = GridSearchCV(KernelDensityClassifier(), param_grid, cv=5, scoring='f1')\n",
    "\n",
    "# Medición del tiempo de \"preparación\" y ajuste de parámetros\n",
    "start_time = time.time()\n",
    "grid_search.fit(X_train, y_train)\n",
    "end_time = time.time()\n",
    "\n",
    "# Tiempo total utilizado en el proceso\n",
    "total_time = end_time - start_time\n",
    "\n",
    "# Resultados de GridSearchCV\n",
    "best_params = grid_search.best_params_\n",
    "best_score = grid_search.best_score_\n",
    "\n",
    "# Imprimir los resultados\n",
    "print(\"Mejores parámetros:\", best_params)\n",
    "print(\"Mejor puntuación:\", best_score)\n",
    "print(\"Tiempo total de preparación y ajuste de parámetros:\", total_time)"
   ]
  },
  {
   "cell_type": "code",
   "execution_count": 89,
   "metadata": {},
   "outputs": [],
   "source": [
    "# Obtener el mejor clasificador\n",
    "best_clf = grid_search.best_estimator_\n",
    "\n",
    "# Entrenar el mejor clasificador\n",
    "best_clf.fit(X_train, y_train)\n",
    "\n",
    "# Predecir las etiquetas de clase para los datos de prueba\n",
    "y_pred = best_clf.predict(X_test)"
   ]
  },
  {
   "cell_type": "code",
   "execution_count": 90,
   "metadata": {},
   "outputs": [
    {
     "data": {
      "image/png": "[encoded data removed]",
      "text/plain": [
       "<Figure size 500x400 with 2 Axes>"
      ]
     },
     "metadata": {},
     "output_type": "display_data"
    },
    {
     "name": "stdout",
     "output_type": "stream",
     "text": [
      "              precision    recall  f1-score   support\n",
      "\n",
      "     Benigno       0.94      1.00      0.97        92\n",
      "     Maligno       1.00      0.87      0.93        45\n",
      "\n",
      "    accuracy                           0.96       137\n",
      "   macro avg       0.97      0.93      0.95       137\n",
      "weighted avg       0.96      0.96      0.96       137\n",
      "\n"
     ]
    }
   ],
   "source": [
    "# Calculando la matriz de confusión\n",
    "conf_matrix = confusion_matrix(y_test, y_pred)\n",
    "\n",
    "# Graficando la matriz de confusión\n",
    "plt.figure(figsize=(5, 4))\n",
    "sns.heatmap(conf_matrix, annot=True, fmt='g', cmap='Blues', xticklabels=['Benigno', 'Maligno'], yticklabels=['Benigno', 'Maligno'])\n",
    "plt.xlabel('Valor Predicho')\n",
    "plt.ylabel('Valor Real')\n",
    "plt.title('Matriz de Confusión de Clasificador de Densidad por Kernels')\n",
    "plt.show()\n",
    "\n",
    "# Reporte de clasificación\n",
    "print(classification_report(y_test, y_pred, target_names=['Benigno', 'Maligno']))"
   ]
  }
 ],
 "metadata": {
  "kernelspec": {
   "display_name": "Python 3",
   "language": "python",
   "name": "python3"
  },
  "language_info": {
   "codemirror_mode": {
    "name": "ipython",
    "version": 3
   },
   "file_extension": ".py",
   "mimetype": "text/x-python",
   "name": "python",
   "nbconvert_exporter": "python",
   "pygments_lexer": "ipython3",
   "version": "3.10.9"
  }
 },
 "nbformat": 4,
 "nbformat_minor": 2
}
