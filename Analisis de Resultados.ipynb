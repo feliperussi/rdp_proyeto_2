{
 "cells": [
  {
   "cell_type": "code",
   "execution_count": 1,
   "metadata": {},
   "outputs": [],
   "source": [
    "import numpy as np\n",
    "import pandas as pd\n",
    "import matplotlib.pyplot as plt\n",
    "import seaborn as sns\n",
    "import time\n",
    "from sklearn.base import BaseEstimator, ClassifierMixin\n",
    "from sklearn.ensemble import RandomForestClassifier\n",
    "from sklearn.metrics import accuracy_score, confusion_matrix, classification_report, multilabel_confusion_matrix, f1_score, recall_score, precision_score\n",
    "from sklearn.model_selection import train_test_split, cross_val_score, GridSearchCV, RandomizedSearchCV\n",
    "from sklearn.preprocessing import MinMaxScaler\n",
    "from sklearn.svm import SVC\n",
    "from sklearn.tree import DecisionTreeClassifier\n",
    "from ucimlrepo import fetch_ucirepo"
   ]
  },
  {
   "cell_type": "code",
   "execution_count": 12,
   "metadata": {},
   "outputs": [
    {
     "name": "stdout",
     "output_type": "stream",
     "text": [
      "No se pudo analizar el contenido como JSON.\n"
     ]
    }
   ],
   "source": [
    "import re\n",
    "import json\n",
    "\n",
    "def read_and_save_data(input_file, output_file):\n",
    "    # Abre el archivo de entrada en modo lectura\n",
    "    with open(input_file, 'r') as file:\n",
    "        # Lee el contenido del archivo\n",
    "        data = file.read()\n",
    "\n",
    "        # Utiliza una expresión regular para encontrar y extraer el contenido entre llaves\n",
    "        pattern = r\"\\{[^{}]*\\}\"\n",
    "        matches = re.findall(pattern, data)\n",
    "\n",
    "        if matches:\n",
    "            # Toma el primer conjunto de llaves encontrado\n",
    "            data_str = matches[0]\n",
    "\n",
    "            try:\n",
    "                # Intenta analizar el contenido como un objeto JSON\n",
    "                data_dict = json.loads(data_str)\n",
    "\n",
    "                # Guarda el diccionario en un archivo JSON\n",
    "                with open(output_file, 'w') as json_file:\n",
    "                    json.dump(data_dict, json_file, indent=4)\n",
    "                print(f\"Datos guardados en {output_file}\")\n",
    "            except json.JSONDecodeError:\n",
    "                print(\"No se pudo analizar el contenido como JSON.\")\n",
    "        else:\n",
    "            print(\"No se encontró un conjunto de llaves válido en el archivo.\")\n",
    "\n",
    "# Llama a la función para procesar el archivo de entrada y guardar en JSON\n",
    "input_file = \"breast_cancer/breast_cancer_results_knn.txt\"\n",
    "output_file = \"breast_cancer/breast_cancer_results_knn.json\"\n",
    "read_and_save_data(input_file, output_file)"
   ]
  },
  {
   "cell_type": "code",
   "execution_count": null,
   "metadata": {},
   "outputs": [],
   "source": []
  }
 ],
 "metadata": {
  "kernelspec": {
   "display_name": "Python 3",
   "language": "python",
   "name": "python3"
  },
  "language_info": {
   "codemirror_mode": {
    "name": "ipython",
    "version": 3
   },
   "file_extension": ".py",
   "mimetype": "text/x-python",
   "name": "python",
   "nbconvert_exporter": "python",
   "pygments_lexer": "ipython3",
   "version": "3.10.9"
  }
 },
 "nbformat": 4,
 "nbformat_minor": 2
}
